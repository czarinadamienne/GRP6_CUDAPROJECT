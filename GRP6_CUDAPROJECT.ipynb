{
  "nbformat": 4,
  "nbformat_minor": 0,
  "metadata": {
    "colab": {
      "provenance": [],
      "gpuType": "T4",
      "include_colab_link": true
    },
    "kernelspec": {
      "name": "python3",
      "display_name": "Python 3"
    },
    "language_info": {
      "name": "python"
    },
    "accelerator": "GPU"
  },
  "cells": [
    {
      "cell_type": "markdown",
      "metadata": {
        "id": "view-in-github",
        "colab_type": "text"
      },
      "source": [
        "<a href=\"https://colab.research.google.com/github/czarinadamienne/GRP6_CUDAPROJECT/blob/main/GRP6_CUDAPROJECT.ipynb\" target=\"_parent\"><img src=\"https://colab.research.google.com/assets/colab-badge.svg\" alt=\"Open In Colab\"/></a>"
      ]
    },
    {
      "cell_type": "markdown",
      "source": [
        "# Implementing **Histogram Counting** and using **Shared memory concept** in CUDA"
      ],
      "metadata": {
        "id": "cszdy2AfK-H0"
      }
    },
    {
      "cell_type": "markdown",
      "source": [
        "### Check CUDA"
      ],
      "metadata": {
        "id": "H9eomnqQLnMt"
      }
    },
    {
      "cell_type": "code",
      "source": [
        "gpu_info = !nvidia-smi\n",
        "gpu_info = '\\n'.join(gpu_info)\n",
        "if gpu_info.find('failed') >= 0:\n",
        "  print('Not connected to a GPU')\n",
        "else:\n",
        "  print(gpu_info)"
      ],
      "metadata": {
        "id": "-zNCL_NyLrDS",
        "colab": {
          "base_uri": "https://localhost:8080/"
        },
        "outputId": "c4ba6560-751c-4f17-e88e-1c984d3e0df3"
      },
      "execution_count": null,
      "outputs": [
        {
          "output_type": "stream",
          "name": "stdout",
          "text": [
            "Tue Feb 18 05:33:26 2025       \n",
            "+-----------------------------------------------------------------------------------------+\n",
            "| NVIDIA-SMI 550.54.15              Driver Version: 550.54.15      CUDA Version: 12.4     |\n",
            "|-----------------------------------------+------------------------+----------------------+\n",
            "| GPU  Name                 Persistence-M | Bus-Id          Disp.A | Volatile Uncorr. ECC |\n",
            "| Fan  Temp   Perf          Pwr:Usage/Cap |           Memory-Usage | GPU-Util  Compute M. |\n",
            "|                                         |                        |               MIG M. |\n",
            "|=========================================+========================+======================|\n",
            "|   0  Tesla T4                       Off |   00000000:00:04.0 Off |                    0 |\n",
            "| N/A   33C    P8              9W /   70W |       0MiB /  15360MiB |      0%      Default |\n",
            "|                                         |                        |                  N/A |\n",
            "+-----------------------------------------+------------------------+----------------------+\n",
            "                                                                                         \n",
            "+-----------------------------------------------------------------------------------------+\n",
            "| Processes:                                                                              |\n",
            "|  GPU   GI   CI        PID   Type   Process name                              GPU Memory |\n",
            "|        ID   ID                                                               Usage      |\n",
            "|=========================================================================================|\n",
            "|  No running processes found                                                             |\n",
            "+-----------------------------------------------------------------------------------------+\n"
          ]
        }
      ]
    },
    {
      "cell_type": "markdown",
      "source": [
        "## (1) C Implementation"
      ],
      "metadata": {
        "id": "XM-bahRELcfh"
      }
    },
    {
      "cell_type": "code",
      "execution_count": 1,
      "metadata": {
        "id": "5JNtuiJhBsYb",
        "colab": {
          "base_uri": "https://localhost:8080/"
        },
        "outputId": "01eec590-162b-46d6-9dae-b45b43119448"
      },
      "outputs": [
        {
          "output_type": "stream",
          "name": "stdout",
          "text": [
            "Writing C_histcount.c\n"
          ]
        }
      ],
      "source": [
        "%%writefile C_histcount.c\n",
        "\n",
        "#include <stdio.h>\n",
        "#include <stdlib.h>\n",
        "#include <time.h>\n",
        "#include <stdint.h>\n",
        "\n",
        "//histogram counting\n",
        "void histcount(size_t n, int32_t* histbins, int32_t* vec) {\n",
        "    int index = 0;\n",
        "    for (int i = 0; i < n; i++) {\n",
        "        index = vec[i] % 10;\n",
        "        histbins[index]++;\n",
        "    }\n",
        "}\n",
        "\n",
        "int main(int argc, char** argv) {\n",
        "    const size_t size = 1 << 28; //change to 1 << 28\n",
        "    const size_t arr_bytes = size * sizeof(int32_t);\n",
        "    const size_t hist_bytes = 10 * sizeof(int32_t);\n",
        "\n",
        "    const size_t repeat = 30;\n",
        "\n",
        "    //dynamically allocate\n",
        "    int32_t* vec, *histbins;\n",
        "    vec = (int32_t*)malloc(arr_bytes);\n",
        "\thistbins = (int32_t*)malloc(hist_bytes);\n",
        "\n",
        "\tfor (int i = 0; i < 10; i++) {\n",
        "\t\thistbins[i] = 0;\n",
        "\t}\n",
        "\n",
        "    //time test\n",
        "    clock_t start, end;\n",
        "\n",
        "    //initialize arrays with index value\n",
        "    for (int i = 0; i < size; i++) {\n",
        "        vec[i] = (int32_t) i;\n",
        "    }\n",
        "\n",
        "    //avoid cache miss\n",
        "    histcount(size, histbins, vec);\n",
        "    for (int i = 0; i < 10; i++) { //clear the histogram\n",
        "        histbins[i] = 0;\n",
        "    }\n",
        "\n",
        "    //timer\n",
        "    double elapse, time_taken;\n",
        "    elapse = 0.0f;\n",
        "\n",
        "    for (int i = 0; i < repeat; i++) {\n",
        "        start = clock();\n",
        "        histcount(size, histbins, vec);\n",
        "        end = clock();\n",
        "        time_taken = ((double)(end - start)) * 1E3 / CLOCKS_PER_SEC;\n",
        "        elapse += time_taken;\n",
        "\n",
        "        if (i < repeat - 1) { //clear the histogram\n",
        "            for (int j = 0; j < 10; j++) {\n",
        "                histbins[j] = 0;\n",
        "            }\n",
        "        }\n",
        "    }\n",
        "\n",
        "    printf(\"Historgram Bins: \\n\");\n",
        "    for (int i = 0; i < 10; i++) {\n",
        "        printf(\"Historgram Bin #%d: %d\\n\", i + 1, histbins[i]);\n",
        "    }\n",
        "\n",
        "    printf(\"\\n\\nC function:\\n\");\n",
        "    printf(\"Average execution time: %f milliseconds\\n\", elapse / repeat);\n",
        "    printf(\"Number of runs: %zu\\n\", repeat);\n",
        "    printf(\"Array size: %zu\\n\", size);\n",
        "\n",
        "    int32_t histcheck[10] = { 0 };\n",
        "    for (int i = 0; i < size; i++) {\n",
        "        histcheck[vec[i] % 10]++;\n",
        "    }\n",
        "\n",
        "    //error checker\n",
        "    size_t error = 0;\n",
        "    for (int i = 0; i < 10; i++) {\n",
        "        if (histbins[i] != histcheck[i]) {\n",
        "            error++;\n",
        "        }\n",
        "    }\n",
        "\n",
        "    printf(\"\\nNumber of wrong bins in C program: %zu\\n\\n\", error);\n",
        "\n",
        "    //free memory\n",
        "    free(vec);\n",
        "\t  free(histbins);\n",
        "\n",
        "    return 0;\n",
        "}"
      ]
    },
    {
      "cell_type": "code",
      "source": [
        "%%shell\n",
        "gcc C_histcount.c -o C_histcount\n",
        "./C_histcount"
      ],
      "metadata": {
        "id": "JomQRFSALzS_",
        "colab": {
          "base_uri": "https://localhost:8080/"
        },
        "outputId": "50eb4e91-a042-4cc0-d616-ece45568b75d"
      },
      "execution_count": null,
      "outputs": [
        {
          "output_type": "stream",
          "name": "stdout",
          "text": [
            "Historgram Bins: \n",
            "Historgram Bin #1: 26843546\n",
            "Historgram Bin #2: 26843546\n",
            "Historgram Bin #3: 26843546\n",
            "Historgram Bin #4: 26843546\n",
            "Historgram Bin #5: 26843546\n",
            "Historgram Bin #6: 26843546\n",
            "Historgram Bin #7: 26843545\n",
            "Historgram Bin #8: 26843545\n",
            "Historgram Bin #9: 26843545\n",
            "Historgram Bin #10: 26843545\n",
            "\n",
            "\n",
            "C function:\n",
            "Average execution time: 1667.850767 milliseconds\n",
            "Number of runs: 30\n",
            "Array size: 268435456\n",
            "\n",
            "Number of wrong bins in C program: 0\n",
            "\n"
          ]
        },
        {
          "output_type": "execute_result",
          "data": {
            "text/plain": []
          },
          "metadata": {},
          "execution_count": 2
        }
      ]
    },
    {
      "cell_type": "markdown",
      "source": [
        "## (2) CUDA Implementation with Shared Memory Concept"
      ],
      "metadata": {
        "id": "WgphmxN6nlco"
      }
    },
    {
      "cell_type": "code",
      "source": [
        "%%writefile CUDA_histcount.cu\n",
        "#include <stdio.h>\n",
        "#include <stdlib.h>\n",
        "\n",
        "//CUDA histcount kernel using shared memory\n",
        "__global__ void histcount(size_t n, int32_t* histbins, int32_t* vec) {\n",
        "    int ind = 0;\n",
        "    int index = blockIdx.x * blockDim.x + threadIdx.x;\n",
        "    int stride = blockDim.x * gridDim.x;\n",
        "    __shared__ int32_t sharedHist[10]; // Static shared memory\n",
        "\n",
        "    // Initialize shared memory with 0\n",
        "    for (int i = threadIdx.x; i < 10; i += blockDim.x) {\n",
        "      sharedHist[i] = 0;\n",
        "    }\n",
        "\n",
        "    __syncthreads(); // Syncrhonize the threads to avoid race conditions\n",
        "\n",
        "    for (int i = index; i < n; i += stride) {\n",
        "        ind = vec[i] % 10;\n",
        "        atomicAdd(&sharedHist[ind], 1);\n",
        "    }\n",
        "\n",
        "    __syncthreads();\n",
        "\n",
        "    // Write back from shared memory to global memory\n",
        "    for (int i = threadIdx.x; i < 10; i += blockDim.x) {\n",
        "      atomicAdd(&histbins[i], sharedHist[i]);\n",
        "    }\n",
        "}\n",
        "\n",
        "int main() {\n",
        "    const size_t size = 1 << 28; //change to 1 << 28\n",
        "    const size_t arr_bytes = size * sizeof(int32_t);\n",
        "    const size_t hist_bytes = 10 * sizeof(int32_t);\n",
        "\n",
        "    const size_t repeat = 30;\n",
        "\n",
        "    //cuda allocate cpu and gpu memory\n",
        "    int32_t *vec, *histbins;\n",
        "    cudaMallocManaged(&vec, arr_bytes);\n",
        "    cudaMallocManaged(&histbins, hist_bytes);\n",
        "\n",
        "\t//initialize histogram bins to 0\n",
        "    cudaMemset(histbins, 0, hist_bytes);\n",
        "\n",
        "    //get gpu in\n",
        "    int device = -1;\n",
        "    cudaGetDevice(&device);\n",
        "\n",
        "    //mem advise\n",
        "    cudaMemAdvise(vec, arr_bytes, cudaMemAdviseSetPreferredLocation, cudaCpuDeviceId);\n",
        "    cudaMemAdvise(vec, arr_bytes, cudaMemAdviseSetReadMostly, cudaCpuDeviceId);\n",
        "\n",
        "\n",
        "    //prefetch to create CPU page memory\n",
        "    cudaMemPrefetchAsync(vec, arr_bytes, cudaCpuDeviceId, NULL);\n",
        "\n",
        "    //prefetch to create GPU page memory\n",
        "    cudaMemPrefetchAsync(histbins, hist_bytes, device, NULL);\n",
        "\n",
        "    //initialize arrays with index value\n",
        "    for (int i = 0; i < size; i++) {\n",
        "        vec[i] = (int32_t)i;\n",
        "    }\n",
        "\n",
        "    //prefetching CPU-GPU\n",
        "    cudaMemPrefetchAsync(vec, arr_bytes, device, NULL);\n",
        "\t  cudaMemPrefetchAsync(histbins, hist_bytes, device, NULL);\n",
        "\n",
        "    //cuda kernel\n",
        "    size_t threads = 256;\n",
        "    size_t blocks = (size + threads - 1) / threads;\n",
        "\n",
        "    for (int i = 0; i < repeat; i++) {\n",
        "        histcount <<<blocks, threads>>> (size, histbins, vec);\n",
        "\n",
        "        if (i < repeat - 1) { //clear the histogram\n",
        "            cudaMemset(histbins, 0, hist_bytes);\n",
        "        }\n",
        "    }\n",
        "\n",
        "    cudaDeviceSynchronize(); //wait GPU to finish\n",
        "\n",
        "    //prefetch from gpu-cpu\n",
        "    cudaMemPrefetchAsync(histbins, hist_bytes, cudaCpuDeviceId, NULL);\n",
        "    cudaMemPrefetchAsync(vec, arr_bytes, cudaCpuDeviceId, NULL);\n",
        "\n",
        "    printf(\"Historgram Bins: \\n\");\n",
        "    for (int i = 0; i < 10; i++) {\n",
        "        printf(\"Historgram Bin #%d: %d\\n\", i + 1, histbins[i]);\n",
        "    }\n",
        "\n",
        "    printf(\"\\n\\nCUDA kernel:\\n\");\n",
        "    printf(\"Number of blocks: %lu\\n\", blocks);\n",
        "    printf(\"Number of threads: %lu\\n\", threads);\n",
        "    printf(\"Number of runs: %lu\\n\", repeat);\n",
        "    printf(\"Array size: %lu\\n\\n\", size);\n",
        "\n",
        "    int indcheck = 0;\n",
        "    int32_t histcheck[10] = { 0 };\n",
        "    for (int i = 0; i < size; i++) {\n",
        "        indcheck = vec[i] % 10;\n",
        "        histcheck[indcheck]++;\n",
        "    }\n",
        "\n",
        "    //error checker\n",
        "    size_t error = 0;\n",
        "    for (int i = 0; i < 10; i++) {\n",
        "        if (histbins[i] != histcheck[i]) {\n",
        "            error++;\n",
        "        }\n",
        "    }\n",
        "\n",
        "    printf(\"Number of errors in CUDA program: %zu\\n\\n\", error);\n",
        "\n",
        "    //free memory\n",
        "    cudaFree(vec);\n",
        "    cudaFree(histbins);\n",
        "\n",
        "    return 0;\n",
        "}"
      ],
      "metadata": {
        "colab": {
          "base_uri": "https://localhost:8080/"
        },
        "outputId": "71f7f0f3-4b51-448c-8a8d-c4c37d60ae7e",
        "id": "i9rMMOqnnlcp"
      },
      "execution_count": 1,
      "outputs": [
        {
          "output_type": "stream",
          "name": "stdout",
          "text": [
            "Writing CUDA_histcount.cu\n"
          ]
        }
      ]
    },
    {
      "cell_type": "code",
      "source": [
        "%%shell\n",
        "nvcc -o CUDA_histcount CUDA_histcount.cu -arch=sm_75\n",
        "nvprof ./CUDA_histcount"
      ],
      "metadata": {
        "colab": {
          "base_uri": "https://localhost:8080/"
        },
        "id": "MNrFlfljt07J",
        "outputId": "b01ac24f-ee05-4379-e9d8-f463205071e3"
      },
      "execution_count": 2,
      "outputs": [
        {
          "output_type": "stream",
          "name": "stdout",
          "text": [
            "==1937== NVPROF is profiling process 1937, command: ./CUDA_histcount\n",
            "Historgram Bins: \n",
            "Historgram Bin #1: 26843546\n",
            "Historgram Bin #2: 26843546\n",
            "Historgram Bin #3: 26843546\n",
            "Historgram Bin #4: 26843546\n",
            "Historgram Bin #5: 26843546\n",
            "Historgram Bin #6: 26843546\n",
            "Historgram Bin #7: 26843545\n",
            "Historgram Bin #8: 26843545\n",
            "Historgram Bin #9: 26843545\n",
            "Historgram Bin #10: 26843545\n",
            "\n",
            "\n",
            "CUDA kernel:\n",
            "Number of blocks: 1048576\n",
            "Number of threads: 256\n",
            "Number of runs: 30\n",
            "Array size: 268435456\n",
            "\n",
            "Number of errors in CUDA program: 0\n",
            "\n",
            "==1937== Profiling application: ./CUDA_histcount\n",
            "==1937== Profiling result:\n",
            "            Type  Time(%)      Time     Calls       Avg       Min       Max  Name\n",
            " GPU activities:   99.87%  230.06ms        30  7.6688ms  6.4799ms  11.165ms  histcount(unsigned long, int*, int*)\n",
            "                    0.13%  292.60us        30  9.7530us  1.9840us  226.04us  [CUDA memset]\n",
            "      API calls:   48.35%  422.71ms         6  70.452ms  27.605us  286.25ms  cudaMemPrefetchAsync\n",
            "                   25.70%  224.66ms        30  7.4888ms  769.51us  11.180ms  cudaMemset\n",
            "                   17.90%  156.46ms         2  78.228ms  85.993us  156.37ms  cudaMallocManaged\n",
            "                    6.99%  61.128ms         2  30.564ms  2.3399ms  58.789ms  cudaFree\n",
            "                    0.74%  6.4875ms         1  6.4875ms  6.4875ms  6.4875ms  cudaDeviceSynchronize\n",
            "                    0.11%  978.31us         1  978.31us  978.31us  978.31us  cuDeviceGetPCIBusId\n",
            "                    0.10%  839.01us        30  27.966us  12.573us  242.83us  cudaLaunchKernel\n",
            "                    0.09%  751.42us         2  375.71us  5.2490us  746.17us  cudaMemAdvise\n",
            "                    0.02%  205.79us       114  1.8050us     106ns  79.809us  cuDeviceGetAttribute\n",
            "                    0.00%  12.740us         1  12.740us  12.740us  12.740us  cuDeviceGetName\n",
            "                    0.00%  2.3700us         1  2.3700us  2.3700us  2.3700us  cudaGetDevice\n",
            "                    0.00%  2.1150us         3     705ns     224ns  1.6580us  cuDeviceGetCount\n",
            "                    0.00%     908ns         2     454ns     136ns     772ns  cuDeviceGet\n",
            "                    0.00%     662ns         1     662ns     662ns     662ns  cuModuleGetLoadingMode\n",
            "                    0.00%     536ns         1     536ns     536ns     536ns  cuDeviceTotalMem\n",
            "                    0.00%     281ns         1     281ns     281ns     281ns  cuDeviceGetUuid\n",
            "\n",
            "==1937== Unified Memory profiling result:\n",
            "Device \"Tesla T4 (0)\"\n",
            "   Count  Avg Size  Min Size  Max Size  Total Size  Total Time  Name\n",
            "     512  2.0000MB  2.0000MB  2.0000MB  1.000000GB  88.92040ms  Host To Device\n",
            "       1  4.0000KB  4.0000KB  4.0000KB  4.000000KB  1.728000us  Device To Host\n",
            "       1         -         -         -           -  220.9890us  Gpu page fault groups\n"
          ]
        },
        {
          "output_type": "execute_result",
          "data": {
            "text/plain": []
          },
          "metadata": {},
          "execution_count": 2
        }
      ]
    },
    {
      "cell_type": "code",
      "source": [
        "%%shell\n",
        "nvcc -o CUDA_histcount CUDA_histcount.cu -arch=sm_75\n",
        "nvprof ./CUDA_histcount"
      ],
      "metadata": {
        "colab": {
          "base_uri": "https://localhost:8080/"
        },
        "outputId": "3dedeb29-9b9d-404b-94e7-5a52aff6879c",
        "id": "z_d3ufpQnlcq"
      },
      "execution_count": null,
      "outputs": [
        {
          "output_type": "stream",
          "name": "stdout",
          "text": [
            "==782== NVPROF is profiling process 782, command: ./CUDA_histcount\n",
            "Historgram Bins: \n",
            "Historgram Bin #1: 26843546\n",
            "Historgram Bin #2: 26843546\n",
            "Historgram Bin #3: 26843546\n",
            "Historgram Bin #4: 26843546\n",
            "Historgram Bin #5: 26843546\n",
            "Historgram Bin #6: 26843546\n",
            "Historgram Bin #7: 26843545\n",
            "Historgram Bin #8: 26843545\n",
            "Historgram Bin #9: 26843545\n",
            "Historgram Bin #10: 26843545\n",
            "\n",
            "\n",
            "CUDA kernel:\n",
            "Number of blocks: 262144\n",
            "Number of threads: 1024\n",
            "Number of runs: 30\n",
            "Array size: 268435456\n",
            "\n",
            "Number of errors in CUDA program: 0\n",
            "\n",
            "==782== Profiling application: ./CUDA_histcount\n",
            "==782== Profiling result:\n",
            "            Type  Time(%)      Time     Calls       Avg       Min       Max  Name\n",
            " GPU activities:   99.93%  293.26ms        30  9.7753ms  6.5144ms  14.191ms  histcount(unsigned long, int*, int*)\n",
            "                    0.07%  213.69us        30  7.1230us  1.6320us  145.60us  [CUDA memset]\n",
            "      API calls:   42.99%  334.59ms         6  55.765ms  23.246us  230.90ms  cudaMemPrefetchAsync\n",
            "                   36.90%  287.20ms        30  9.5733ms  209.00us  14.198ms  cudaMemset\n",
            "                   13.89%  108.08ms         2  54.041ms  89.463us  107.99ms  cudaMallocManaged\n",
            "                    5.29%  41.186ms         2  20.593ms  2.5580ms  38.628ms  cudaFree\n",
            "                    0.84%  6.5225ms         1  6.5225ms  6.5225ms  6.5225ms  cudaDeviceSynchronize\n",
            "                    0.07%  529.80us        30  17.659us  7.2600us  180.19us  cudaLaunchKernel\n",
            "                    0.02%  132.17us       114  1.1590us     104ns  54.643us  cuDeviceGetAttribute\n",
            "                    0.00%  22.984us         2  11.492us  3.5100us  19.474us  cudaMemAdvise\n",
            "                    0.00%  12.323us         1  12.323us  12.323us  12.323us  cuDeviceGetName\n",
            "                    0.00%  5.3430us         1  5.3430us  5.3430us  5.3430us  cuDeviceGetPCIBusId\n",
            "                    0.00%  2.5130us         1  2.5130us  2.5130us  2.5130us  cudaGetDevice\n",
            "                    0.00%  1.6610us         3     553ns     122ns  1.2880us  cuDeviceGetCount\n",
            "                    0.00%     799ns         2     399ns     137ns     662ns  cuDeviceGet\n",
            "                    0.00%     701ns         1     701ns     701ns     701ns  cuModuleGetLoadingMode\n",
            "                    0.00%     470ns         1     470ns     470ns     470ns  cuDeviceTotalMem\n",
            "                    0.00%     215ns         1     215ns     215ns     215ns  cuDeviceGetUuid\n",
            "\n",
            "==782== Unified Memory profiling result:\n",
            "Device \"Tesla T4 (0)\"\n",
            "   Count  Avg Size  Min Size  Max Size  Total Size  Total Time  Name\n",
            "     512  2.0000MB  2.0000MB  2.0000MB  1.000000GB  88.92145ms  Host To Device\n",
            "       1  4.0000KB  4.0000KB  4.0000KB  4.000000KB  1.472000us  Device To Host\n",
            "       1         -         -         -           -  140.4450us  Gpu page fault groups\n"
          ]
        },
        {
          "output_type": "execute_result",
          "data": {
            "text/plain": []
          },
          "metadata": {},
          "execution_count": 6
        }
      ]
    }
  ]
}