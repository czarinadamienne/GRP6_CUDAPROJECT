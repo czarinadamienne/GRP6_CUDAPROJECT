{
  "nbformat": 4,
  "nbformat_minor": 0,
  "metadata": {
    "colab": {
      "provenance": [],
      "gpuType": "T4",
      "include_colab_link": true
    },
    "kernelspec": {
      "name": "python3",
      "display_name": "Python 3"
    },
    "language_info": {
      "name": "python"
    },
    "accelerator": "GPU"
  },
  "cells": [
    {
      "cell_type": "markdown",
      "metadata": {
        "id": "view-in-github",
        "colab_type": "text"
      },
      "source": [
        "<a href=\"https://colab.research.google.com/github/czarinadamienne/GRP6_CUDAPROJECT/blob/main/GRP6_CUDAPROJECT.ipynb\" target=\"_parent\"><img src=\"https://colab.research.google.com/assets/colab-badge.svg\" alt=\"Open In Colab\"/></a>"
      ]
    },
    {
      "cell_type": "markdown",
      "source": [
        "# Implementing **Histogram Counting** and using **Shared memory concept** in CUDA"
      ],
      "metadata": {
        "id": "cszdy2AfK-H0"
      }
    },
    {
      "cell_type": "markdown",
      "source": [
        "### Check CUDA"
      ],
      "metadata": {
        "id": "H9eomnqQLnMt"
      }
    },
    {
      "cell_type": "code",
      "source": [
        "gpu_info = !nvidia-smi\n",
        "gpu_info = '\\n'.join(gpu_info)\n",
        "if gpu_info.find('failed') >= 0:\n",
        "  print('Not connected to a GPU')\n",
        "else:\n",
        "  print(gpu_info)"
      ],
      "metadata": {
        "id": "-zNCL_NyLrDS",
        "colab": {
          "base_uri": "https://localhost:8080/"
        },
        "outputId": "c4ba6560-751c-4f17-e88e-1c984d3e0df3"
      },
      "execution_count": null,
      "outputs": [
        {
          "output_type": "stream",
          "name": "stdout",
          "text": [
            "Tue Feb 18 05:33:26 2025       \n",
            "+-----------------------------------------------------------------------------------------+\n",
            "| NVIDIA-SMI 550.54.15              Driver Version: 550.54.15      CUDA Version: 12.4     |\n",
            "|-----------------------------------------+------------------------+----------------------+\n",
            "| GPU  Name                 Persistence-M | Bus-Id          Disp.A | Volatile Uncorr. ECC |\n",
            "| Fan  Temp   Perf          Pwr:Usage/Cap |           Memory-Usage | GPU-Util  Compute M. |\n",
            "|                                         |                        |               MIG M. |\n",
            "|=========================================+========================+======================|\n",
            "|   0  Tesla T4                       Off |   00000000:00:04.0 Off |                    0 |\n",
            "| N/A   33C    P8              9W /   70W |       0MiB /  15360MiB |      0%      Default |\n",
            "|                                         |                        |                  N/A |\n",
            "+-----------------------------------------+------------------------+----------------------+\n",
            "                                                                                         \n",
            "+-----------------------------------------------------------------------------------------+\n",
            "| Processes:                                                                              |\n",
            "|  GPU   GI   CI        PID   Type   Process name                              GPU Memory |\n",
            "|        ID   ID                                                               Usage      |\n",
            "|=========================================================================================|\n",
            "|  No running processes found                                                             |\n",
            "+-----------------------------------------------------------------------------------------+\n"
          ]
        }
      ]
    },
    {
      "cell_type": "markdown",
      "source": [
        "## (1) C Implementation"
      ],
      "metadata": {
        "id": "XM-bahRELcfh"
      }
    },
    {
      "cell_type": "code",
      "execution_count": 1,
      "metadata": {
        "id": "5JNtuiJhBsYb",
        "colab": {
          "base_uri": "https://localhost:8080/"
        },
        "outputId": "7dd1be40-76b3-454f-cdfe-1fc1bfc39f21"
      },
      "outputs": [
        {
          "output_type": "stream",
          "name": "stdout",
          "text": [
            "Writing C_histcount.c\n"
          ]
        }
      ],
      "source": [
        "%%writefile C_histcount.c\n",
        "\n",
        "#include <stdio.h>\n",
        "#include <stdlib.h>\n",
        "#include <time.h>\n",
        "#include <stdint.h>\n",
        "\n",
        "//histogram counting\n",
        "void histcount(size_t n, int32_t* histbins, int32_t* vec) {\n",
        "    int index = 0;\n",
        "    for (int i = 0; i < n; i++) {\n",
        "        index = vec[i] % 10;\n",
        "        histbins[index]++;\n",
        "    }\n",
        "}\n",
        "\n",
        "int main(int argc, char** argv) {\n",
        "    const size_t size = 1 << 28; //change to 1 << 28\n",
        "    const size_t arr_bytes = size * sizeof(int32_t);\n",
        "    const size_t hist_bytes = 10 * sizeof(int32_t);\n",
        "\n",
        "    const size_t repeat = 30;\n",
        "\n",
        "    //dynamically allocate\n",
        "    int32_t* vec, *histbins;\n",
        "    vec = (int32_t*)malloc(arr_bytes);\n",
        "\thistbins = (int32_t*)malloc(hist_bytes);\n",
        "\n",
        "\tfor (int i = 0; i < 10; i++) {\n",
        "\t\thistbins[i] = 0;\n",
        "\t}\n",
        "\n",
        "    //time test\n",
        "    clock_t start, end;\n",
        "\n",
        "    //initialize arrays with index value\n",
        "    for (int i = 0; i < size; i++) {\n",
        "        vec[i] = (int32_t) i;\n",
        "    }\n",
        "\n",
        "    //avoid cache miss\n",
        "    histcount(size, histbins, vec);\n",
        "    for (int i = 0; i < 10; i++) { //clear the histogram\n",
        "        histbins[i] = 0;\n",
        "    }\n",
        "\n",
        "    //timer\n",
        "    double elapse, time_taken;\n",
        "    elapse = 0.0f;\n",
        "\n",
        "    for (int i = 0; i < repeat; i++) {\n",
        "        start = clock();\n",
        "        histcount(size, histbins, vec);\n",
        "        end = clock();\n",
        "        time_taken = ((double)(end - start)) * 1E3 / CLOCKS_PER_SEC;\n",
        "        elapse += time_taken;\n",
        "\n",
        "        if (i < repeat - 1) { //clear the histogram\n",
        "            for (int j = 0; j < 10; j++) {\n",
        "                histbins[j] = 0;\n",
        "            }\n",
        "        }\n",
        "    }\n",
        "\n",
        "    printf(\"Historgram Bins: \\n\");\n",
        "    for (int i = 0; i < 10; i++) {\n",
        "        printf(\"Historgram Bin #%d: %d\\n\", i + 1, histbins[i]);\n",
        "    }\n",
        "\n",
        "    printf(\"\\n\\nC function:\\n\");\n",
        "    printf(\"Average execution time: %f milliseconds\\n\", elapse / repeat);\n",
        "    printf(\"Number of runs: %zu\\n\", repeat);\n",
        "    printf(\"Array size: %zu\\n\", size);\n",
        "\n",
        "    int32_t histcheck[10] = { 0 };\n",
        "    for (int i = 0; i < size; i++) {\n",
        "        histcheck[vec[i] % 10]++;\n",
        "    }\n",
        "\n",
        "    /*printf(\"\\n\\nVector: \");\n",
        "    for (int i = 0; i < size; i++){\n",
        "      printf(\"%d\", vec[i]);\n",
        "    }*/\n",
        "\n",
        "    //error checker\n",
        "    size_t error = 0;\n",
        "    for (int i = 0; i < 10; i++) {\n",
        "        if (histbins[i] != histcheck[i]) {\n",
        "            error++;\n",
        "        }\n",
        "    }\n",
        "\n",
        "    printf(\"\\nNumber of wrong bins in C program: %zu\\n\\n\", error);\n",
        "\n",
        "    //free memory\n",
        "    free(vec);\n",
        "\t  free(histbins);\n",
        "\n",
        "    return 0;\n",
        "}"
      ]
    },
    {
      "cell_type": "code",
      "source": [
        "%%shell\n",
        "gcc C_histcount.c -o C_histcount\n",
        "./C_histcount"
      ],
      "metadata": {
        "id": "JomQRFSALzS_",
        "colab": {
          "base_uri": "https://localhost:8080/"
        },
        "outputId": "1c999aa8-abd6-47a9-ebd5-24eddb05f9f9"
      },
      "execution_count": 2,
      "outputs": [
        {
          "output_type": "stream",
          "name": "stdout",
          "text": [
            "Historgram Bins: \n",
            "Historgram Bin #1: 26843546\n",
            "Historgram Bin #2: 26843546\n",
            "Historgram Bin #3: 26843546\n",
            "Historgram Bin #4: 26843546\n",
            "Historgram Bin #5: 26843546\n",
            "Historgram Bin #6: 26843546\n",
            "Historgram Bin #7: 26843545\n",
            "Historgram Bin #8: 26843545\n",
            "Historgram Bin #9: 26843545\n",
            "Historgram Bin #10: 26843545\n",
            "\n",
            "\n",
            "C function:\n",
            "Average execution time: 1345.293433 milliseconds\n",
            "Number of runs: 30\n",
            "Array size: 268435456\n",
            "\n",
            "Number of wrong bins in C program: 0\n",
            "\n"
          ]
        },
        {
          "output_type": "execute_result",
          "data": {
            "text/plain": []
          },
          "metadata": {},
          "execution_count": 2
        }
      ]
    },
    {
      "cell_type": "markdown",
      "source": [
        "## (2) CUDA Implementation with Shared Memory Concept"
      ],
      "metadata": {
        "id": "WgphmxN6nlco"
      }
    },
    {
      "cell_type": "code",
      "source": [
        "%%writefile CUDA_histcount.cu\n",
        "#include <stdio.h>\n",
        "#include <stdlib.h>\n",
        "\n",
        "//CUDA histcount kernel using shared memory\n",
        "__global__ void histcount(size_t n, int32_t* histbins, int32_t* vec) {\n",
        "    int ind = 0;\n",
        "    int index = blockIdx.x * blockDim.x + threadIdx.x;\n",
        "    int stride = blockDim.x * gridDim.x;\n",
        "    __shared__ int32_t sharedHist[10]; // Static shared memory\n",
        "\n",
        "    // Initialize shared memory with 0\n",
        "    for (int i = threadIdx.x; i < 10; i += blockDim.x) {\n",
        "      sharedHist[i] = 0;\n",
        "    }\n",
        "\n",
        "    __syncthreads(); // Syncrhonize the threads to avoid race conditions\n",
        "\n",
        "    for (int i = index; i < n; i += stride) {\n",
        "        ind = vec[i] % 10;\n",
        "        atomicAdd(&sharedHist[ind], 1);\n",
        "    }\n",
        "\n",
        "    __syncthreads();\n",
        "\n",
        "    // Write back from shared memory to global memory\n",
        "    for (int i = threadIdx.x; i < 10; i += blockDim.x) {\n",
        "      atomicAdd(&histbins[i], sharedHist[i]);\n",
        "    }\n",
        "}\n",
        "\n",
        "int main() {\n",
        "    const size_t size = 1 << 28; //change to 1 << 28\n",
        "    const size_t arr_bytes = size * sizeof(int32_t);\n",
        "    const size_t hist_bytes = 10 * sizeof(int32_t);\n",
        "\n",
        "    const size_t repeat = 30;\n",
        "\n",
        "    //cuda allocate cpu and gpu memory\n",
        "    int32_t *vec, *histbins;\n",
        "    cudaMallocManaged(&vec, arr_bytes);\n",
        "    cudaMallocManaged(&histbins, hist_bytes);\n",
        "\n",
        "\t//initialize histogram bins to 0\n",
        "    cudaMemset(histbins, 0, hist_bytes);\n",
        "\n",
        "    //get gpu in\n",
        "    int device = -1;\n",
        "    cudaGetDevice(&device);\n",
        "\n",
        "    //mem advise\n",
        "    cudaMemAdvise(vec, arr_bytes, cudaMemAdviseSetPreferredLocation, cudaCpuDeviceId);\n",
        "    cudaMemAdvise(vec, arr_bytes, cudaMemAdviseSetReadMostly, cudaCpuDeviceId);\n",
        "\n",
        "\n",
        "    //prefetch to create CPU page memory\n",
        "    cudaMemPrefetchAsync(vec, arr_bytes, cudaCpuDeviceId, NULL);\n",
        "\n",
        "    //prefetch to create GPU page memory\n",
        "    cudaMemPrefetchAsync(histbins, hist_bytes, device, NULL);\n",
        "\n",
        "    //initialize arrays with index value\n",
        "    for (int i = 0; i < size; i++) {\n",
        "        vec[i] = (int32_t)i;\n",
        "    }\n",
        "\n",
        "    //prefetching CPU-GPU\n",
        "    cudaMemPrefetchAsync(vec, arr_bytes, device, NULL);\n",
        "\t  cudaMemPrefetchAsync(histbins, hist_bytes, device, NULL);\n",
        "\n",
        "    //cuda kernel\n",
        "    size_t threads = 1024;\n",
        "    size_t blocks = (size + threads - 1) / threads;\n",
        "\n",
        "    for (int i = 0; i < repeat; i++) {\n",
        "        histcount <<<blocks, threads>>> (size, histbins, vec);\n",
        "\n",
        "        if (i < repeat - 1) { //clear the histogram\n",
        "            cudaMemset(histbins, 0, hist_bytes);\n",
        "        }\n",
        "    }\n",
        "\n",
        "    cudaDeviceSynchronize(); //wait GPU to finish\n",
        "\n",
        "    //prefetch from gpu-cpu\n",
        "    cudaMemPrefetchAsync(histbins, hist_bytes, cudaCpuDeviceId, NULL);\n",
        "    cudaMemPrefetchAsync(vec, arr_bytes, cudaCpuDeviceId, NULL);\n",
        "\n",
        "    printf(\"Historgram Bins: \\n\");\n",
        "    for (int i = 0; i < 10; i++) {\n",
        "        printf(\"Historgram Bin #%d: %d\\n\", i + 1, histbins[i]);\n",
        "    }\n",
        "\n",
        "    printf(\"\\n\\nCUDA kernel:\\n\");\n",
        "    printf(\"Number of blocks: %lu\\n\", blocks);\n",
        "    printf(\"Number of threads: %lu\\n\", threads);\n",
        "    printf(\"Number of runs: %lu\\n\", repeat);\n",
        "    printf(\"Array size: %lu\\n\\n\", size);\n",
        "\n",
        "    int indcheck = 0;\n",
        "    int32_t histcheck[10] = { 0 };\n",
        "    for (int i = 0; i < size; i++) {\n",
        "        indcheck = vec[i] % 10;\n",
        "        histcheck[indcheck]++;\n",
        "    }\n",
        "\n",
        "    //error checker\n",
        "    size_t error = 0;\n",
        "    for (int i = 0; i < 10; i++) {\n",
        "        if (histbins[i] != histcheck[i]) {\n",
        "            error++;\n",
        "        }\n",
        "    }\n",
        "\n",
        "    printf(\"Number of errors in CUDA program: %zu\\n\\n\", error);\n",
        "\n",
        "    //free memory\n",
        "    cudaFree(vec);\n",
        "    cudaFree(histbins);\n",
        "\n",
        "    return 0;\n",
        "}"
      ],
      "metadata": {
        "colab": {
          "base_uri": "https://localhost:8080/"
        },
        "outputId": "21a08432-acad-441b-f858-4f5bf86bd964",
        "id": "i9rMMOqnnlcp"
      },
      "execution_count": 7,
      "outputs": [
        {
          "output_type": "stream",
          "name": "stdout",
          "text": [
            "Overwriting CUDA_histcount.cu\n"
          ]
        }
      ]
    },
    {
      "cell_type": "code",
      "source": [
        "%%shell\n",
        "nvcc -o CUDA_histcount CUDA_histcount.cu -arch=sm_75\n",
        "nvprof ./CUDA_histcount"
      ],
      "metadata": {
        "colab": {
          "base_uri": "https://localhost:8080/"
        },
        "outputId": "37577927-e7f9-46ab-b760-162b03572fb1",
        "id": "z_d3ufpQnlcq"
      },
      "execution_count": 6,
      "outputs": [
        {
          "output_type": "stream",
          "name": "stdout",
          "text": [
            "==959== NVPROF is profiling process 959, command: ./CUDA_histcount\n",
            "Historgram Bins: \n",
            "Historgram Bin #1: 26843546\n",
            "Historgram Bin #2: 26843546\n",
            "Historgram Bin #3: 26843546\n",
            "Historgram Bin #4: 26843546\n",
            "Historgram Bin #5: 26843546\n",
            "Historgram Bin #6: 26843546\n",
            "Historgram Bin #7: 26843545\n",
            "Historgram Bin #8: 26843545\n",
            "Historgram Bin #9: 26843545\n",
            "Historgram Bin #10: 26843545\n",
            "\n",
            "\n",
            "CUDA kernel:\n",
            "Number of blocks: 1048576\n",
            "Number of threads: 256\n",
            "Number of runs: 30\n",
            "Array size: 268435456\n",
            "\n",
            "Number of errors in CUDA program: 0\n",
            "\n",
            "==959== Profiling application: ./CUDA_histcount\n",
            "==959== Profiling result:\n",
            "            Type  Time(%)      Time     Calls       Avg       Min       Max  Name\n",
            " GPU activities:   99.89%  225.76ms        30  7.5253ms  6.3050ms  11.172ms  histcount(unsigned long, int*, int*)\n",
            "                    0.11%  247.20us        30  8.2390us  1.9200us  182.01us  [CUDA memset]\n",
            "      API calls:   46.35%  332.33ms         6  55.388ms  23.513us  231.06ms  cudaMemPrefetchAsync\n",
            "                   30.67%  219.93ms        30  7.3309ms  219.99us  11.182ms  cudaMemset\n",
            "                   15.99%  114.63ms         2  57.315ms  74.681us  114.56ms  cudaMallocManaged\n",
            "                    6.01%  43.055ms         2  21.528ms  3.3327ms  39.722ms  cudaFree\n",
            "                    0.88%  6.3109ms         1  6.3109ms  6.3109ms  6.3109ms  cudaDeviceSynchronize\n",
            "                    0.08%  553.45us        30  18.448us  7.0070us  174.31us  cudaLaunchKernel\n",
            "                    0.02%  141.77us       114  1.2430us     110ns  60.646us  cuDeviceGetAttribute\n",
            "                    0.00%  18.087us         2  9.0430us  2.4660us  15.621us  cudaMemAdvise\n",
            "                    0.00%  12.058us         1  12.058us  12.058us  12.058us  cuDeviceGetName\n",
            "                    0.00%  5.2240us         1  5.2240us  5.2240us  5.2240us  cuDeviceGetPCIBusId\n",
            "                    0.00%  1.9800us         3     660ns     120ns  1.3010us  cuDeviceGetCount\n",
            "                    0.00%  1.8680us         1  1.8680us  1.8680us  1.8680us  cudaGetDevice\n",
            "                    0.00%     880ns         2     440ns     162ns     718ns  cuDeviceGet\n",
            "                    0.00%     405ns         1     405ns     405ns     405ns  cuDeviceTotalMem\n",
            "                    0.00%     372ns         1     372ns     372ns     372ns  cuModuleGetLoadingMode\n",
            "                    0.00%     255ns         1     255ns     255ns     255ns  cuDeviceGetUuid\n",
            "\n",
            "==959== Unified Memory profiling result:\n",
            "Device \"Tesla T4 (0)\"\n",
            "   Count  Avg Size  Min Size  Max Size  Total Size  Total Time  Name\n",
            "     512  2.0000MB  2.0000MB  2.0000MB  1.000000GB  88.94614ms  Host To Device\n",
            "       1  4.0000KB  4.0000KB  4.0000KB  4.000000KB  1.696000us  Device To Host\n",
            "       1         -         -         -           -  176.8280us  Gpu page fault groups\n"
          ]
        },
        {
          "output_type": "execute_result",
          "data": {
            "text/plain": []
          },
          "metadata": {},
          "execution_count": 6
        }
      ]
    },
    {
      "cell_type": "code",
      "source": [
        "%%shell\n",
        "nvcc -o CUDA_histcount CUDA_histcount.cu -arch=sm_75\n",
        "nvprof ./CUDA_histcount"
      ],
      "metadata": {
        "colab": {
          "base_uri": "https://localhost:8080/"
        },
        "id": "ALRK_APhPAIg",
        "outputId": "77c8422d-8d99-42f8-a5bf-3ec3ea2a4b8f"
      },
      "execution_count": 8,
      "outputs": [
        {
          "output_type": "stream",
          "name": "stdout",
          "text": [
            "==1077== NVPROF is profiling process 1077, command: ./CUDA_histcount\n",
            "Historgram Bins: \n",
            "Historgram Bin #1: 26843546\n",
            "Historgram Bin #2: 26843546\n",
            "Historgram Bin #3: 26843546\n",
            "Historgram Bin #4: 26843546\n",
            "Historgram Bin #5: 26843546\n",
            "Historgram Bin #6: 26843546\n",
            "Historgram Bin #7: 26843545\n",
            "Historgram Bin #8: 26843545\n",
            "Historgram Bin #9: 26843545\n",
            "Historgram Bin #10: 26843545\n",
            "\n",
            "\n",
            "CUDA kernel:\n",
            "Number of blocks: 262144\n",
            "Number of threads: 1024\n",
            "Number of runs: 30\n",
            "Array size: 268435456\n",
            "\n",
            "Number of errors in CUDA program: 0\n",
            "\n",
            "==1077== Profiling application: ./CUDA_histcount\n",
            "==1077== Profiling result:\n",
            "            Type  Time(%)      Time     Calls       Avg       Min       Max  Name\n",
            " GPU activities:   99.92%  296.44ms        30  9.8812ms  7.0141ms  14.143ms  histcount(unsigned long, int*, int*)\n",
            "                    0.08%  223.55us        30  7.4510us  1.7280us  157.27us  [CUDA memset]\n",
            "      API calls:   42.46%  347.45ms         6  57.908ms  21.829us  239.66ms  cudaMemPrefetchAsync\n",
            "                   35.42%  289.87ms        30  9.6624ms  207.57us  14.160ms  cudaMemset\n",
            "                   12.84%  105.10ms         2  52.548ms  72.443us  105.02ms  cudaMallocManaged\n",
            "                    8.33%  68.194ms         2  34.097ms  3.0637ms  65.130ms  cudaFree\n",
            "                    0.86%  7.0169ms         1  7.0169ms  7.0169ms  7.0169ms  cudaDeviceSynchronize\n",
            "                    0.06%  504.73us        30  16.824us  5.4480us  170.14us  cudaLaunchKernel\n",
            "                    0.02%  148.20us       114  1.2990us     102ns  65.630us  cuDeviceGetAttribute\n",
            "                    0.00%  16.274us         2  8.1370us  2.3080us  13.966us  cudaMemAdvise\n",
            "                    0.00%  11.741us         1  11.741us  11.741us  11.741us  cuDeviceGetName\n",
            "                    0.00%  5.2630us         1  5.2630us  5.2630us  5.2630us  cuDeviceGetPCIBusId\n",
            "                    0.00%  1.8680us         1  1.8680us  1.8680us  1.8680us  cudaGetDevice\n",
            "                    0.00%  1.5340us         3     511ns     142ns  1.1650us  cuDeviceGetCount\n",
            "                    0.00%  1.1260us         2     563ns     143ns     983ns  cuDeviceGet\n",
            "                    0.00%     522ns         1     522ns     522ns     522ns  cuModuleGetLoadingMode\n",
            "                    0.00%     390ns         1     390ns     390ns     390ns  cuDeviceTotalMem\n",
            "                    0.00%     203ns         1     203ns     203ns     203ns  cuDeviceGetUuid\n",
            "\n",
            "==1077== Unified Memory profiling result:\n",
            "Device \"Tesla T4 (0)\"\n",
            "   Count  Avg Size  Min Size  Max Size  Total Size  Total Time  Name\n",
            "     512  2.0000MB  2.0000MB  2.0000MB  1.000000GB  88.95015ms  Host To Device\n",
            "       1  4.0000KB  4.0000KB  4.0000KB  4.000000KB  1.567000us  Device To Host\n",
            "       1         -         -         -           -  153.2110us  Gpu page fault groups\n"
          ]
        },
        {
          "output_type": "execute_result",
          "data": {
            "text/plain": []
          },
          "metadata": {},
          "execution_count": 8
        }
      ]
    }
  ]
}