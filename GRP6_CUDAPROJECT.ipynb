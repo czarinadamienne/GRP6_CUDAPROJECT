{
  "nbformat": 4,
  "nbformat_minor": 0,
  "metadata": {
    "colab": {
      "provenance": [],
      "authorship_tag": "ABX9TyPgs1+OLDrHWAUXBx6r5NuD",
      "include_colab_link": true
    },
    "kernelspec": {
      "name": "python3",
      "display_name": "Python 3"
    },
    "language_info": {
      "name": "python"
    }
  },
  "cells": [
    {
      "cell_type": "markdown",
      "metadata": {
        "id": "view-in-github",
        "colab_type": "text"
      },
      "source": [
        "<a href=\"https://colab.research.google.com/github/czarinadamienne/GRP6_CUDAPROJECT/blob/main/GRP6_CUDAPROJECT.ipynb\" target=\"_parent\"><img src=\"https://colab.research.google.com/assets/colab-badge.svg\" alt=\"Open In Colab\"/></a>"
      ]
    },
    {
      "cell_type": "markdown",
      "source": [
        "# Implementing **Histogram Counting** and using **Shared memory concept** in CUDA"
      ],
      "metadata": {
        "id": "cszdy2AfK-H0"
      }
    },
    {
      "cell_type": "markdown",
      "source": [
        "### Check CUDA"
      ],
      "metadata": {
        "id": "H9eomnqQLnMt"
      }
    },
    {
      "cell_type": "code",
      "source": [
        "gpu_info = !nvidia-smi\n",
        "gpu_info = '\\n'.join(gpu_info)\n",
        "if gpu_info.find('failed') >= 0:\n",
        "  print('Not connected to a GPU')\n",
        "else:\n",
        "  print(gpu_info)"
      ],
      "metadata": {
        "id": "-zNCL_NyLrDS"
      },
      "execution_count": null,
      "outputs": []
    },
    {
      "cell_type": "markdown",
      "source": [
        "## (1) C Implementation"
      ],
      "metadata": {
        "id": "XM-bahRELcfh"
      }
    },
    {
      "cell_type": "code",
      "execution_count": null,
      "metadata": {
        "id": "5JNtuiJhBsYb"
      },
      "outputs": [],
      "source": [
        "%%writefile C_histcount.c\n",
        "\n",
        "#include <stdio.h>\n",
        "#include <stdlib.h>\n",
        "#include <time.h>\n",
        "\n",
        "//histogram counting\n",
        "void histcount(size_t n, int32_t* histbins, int32_t *vec){\n",
        "  int index = 0;\n",
        "  for (int i = 0; i < n; i++){\n",
        "    index = vec[i] % 10;\n",
        "    histbins[index]++;\n",
        "  }\n",
        "}\n",
        "\n",
        "int main(int argc, char** argv){\n",
        "  const size_t size = 10; //change to 1 << 28\n",
        "  const size_t arr_bytes = size * sizeof(int32_t);\n",
        "\n",
        "  const size_t repeat = 30;\n",
        "\n",
        "  //dynamically allocate\n",
        "  int32_t *vec;\n",
        "  vec = (int32_t*)malloc(arr_bytes);\n",
        "  int32_t histbins[10] = {0};\n",
        "\n",
        "  //time test\n",
        "  clock_t start, end;\n",
        "\n",
        "  //initialize arrays with index value\n",
        "  for (int i = 0; i < size; i++){\n",
        "    vec[i] = (int32_t) i;\n",
        "  }\n",
        "\n",
        "  //avoid cache miss\n",
        "  histcount(size, histbins, vec);\n",
        "  for (int i = 0; i < size; i++){ //clear the histogram\n",
        "        histbins[i] = 0;\n",
        "  }\n",
        "\n",
        "  //timer\n",
        "  double elapse, time_taken;\n",
        "  elapse = 0.0f;\n",
        "\n",
        "  for(int i = 0; i < repeat; i++){\n",
        "    start = clock();\n",
        "    histcount(size, histbins, vec);\n",
        "    end = clock();\n",
        "    time_taken = ((double)(end-start))*1E3/CLOCKS_PER_SEC;\n",
        "    elapse += time_taken;\n",
        "\n",
        "    if (i < repeat - 1){ //clear the histogram\n",
        "        for (int i = 0; i < size; i++){\n",
        "            histbins[i] = 0;\n",
        "        }\n",
        "    }\n",
        "  }\n",
        "\n",
        "  printf(\"Historgram Bins: \\n\");\n",
        "  for (int i = 0; i < 10; i++){\n",
        "    printf(\"Historgram Bin #%d: %d\\n\", i + 1, histbins[i]);\n",
        "  }\n",
        "\n",
        "  printf(\"\\n\\nC function:\\n\");\n",
        "  printf(\"Average execution time: %f milliseconds\\n\", elapse/repeat);\n",
        "  printf(\"Number of runs: %lu\\n\", repeat);\n",
        "  printf(\"Array size: %lu\", size);\n",
        "\n",
        "  int ind = 0;\n",
        "  int32_t histcheck[10] = {0};\n",
        "  for (int i = 0; i < size; i++){\n",
        "    ind = vec[i] % 10;\n",
        "    histcheck[ind]++;\n",
        "  }\n",
        "\n",
        "  /*printf(\"\\n\\nVector: \");\n",
        "  for (int i = 0; i < size; i++){\n",
        "    printf(\"%d\", vec[i]);\n",
        "  }*/\n",
        "\n",
        "  //error checker\n",
        "  size_t error = 0;\n",
        "  for (int i = 0; i < 10; i++){\n",
        "    if (histbins[i] != histcheck[i]){\n",
        "      error++;\n",
        "    }\n",
        "  }\n",
        "\n",
        "  printf(\"\\n\\nNumber of errors in C program: %lu\\n\\n\", error);\n",
        "\n",
        "  //free memory\n",
        "  free(vec);\n",
        "\n",
        "  return 0;\n",
        "}"
      ]
    },
    {
      "cell_type": "code",
      "source": [
        "%%shell\n",
        "gcc C_histcount.c -o C_histcount\n",
        "./C_histcount"
      ],
      "metadata": {
        "id": "JomQRFSALzS_"
      },
      "execution_count": null,
      "outputs": []
    },
    {
      "cell_type": "markdown",
      "source": [
        "## (2) CUDA Implementation"
      ],
      "metadata": {
        "id": "D40OjUTvLhJc"
      }
    },
    {
      "cell_type": "code",
      "source": [
        "%%writefile CUDA_histcount.cu\n",
        "\n",
        "#include <stdio.h>\n",
        "#include <stdlib.h>\n",
        "\n",
        "//CUDA histcount kernel\n",
        "__global__ void histcount(size_t n, int32_t* histbins, int32_t* vec) {\n",
        "    int ind = 0;\n",
        "    int index = blockIdx.x * blockDim.x + threadIdx.x;\n",
        "    int stride = blockDim.x * gridDim.x;\n",
        "\n",
        "    for (int i = index; i < n; i += stride) {\n",
        "        ind = vec[i] % 10;\n",
        "        histbins[ind]++;\n",
        "    }\n",
        "}\n",
        "\n",
        "int main() {\n",
        "    const size_t size = 10; //change to 1 << 28\n",
        "    const size_t arr_bytes = size * sizeof(int32_t);\n",
        "    const size_t hist_bytes = 10 * sizeof(int32_t);\n",
        "\n",
        "    const size_t repeat = 30;\n",
        "\n",
        "    //cuda allocate cpu and gpu memory\n",
        "    int32_t *vec, *histbins;\n",
        "    cudaMallocManaged(&vec, arr_bytes);\n",
        "    cudaMallocManaged(&histbins, hist_bytes);\n",
        "\n",
        "\t//initialize histogram bins to 0\n",
        "    cudaMemset(histbins, 0, hist_bytes);\n",
        "\n",
        "    //get gpu in\n",
        "    int device = -1;\n",
        "    cudaGetDevice(&device);\n",
        "\n",
        "    //mem advise\n",
        "    cudaMemAdvise(vec, arr_bytes, cudaMemAdviseSetPreferredLocation, cudaCpuDeviceId);\n",
        "    cudaMemAdvise(vec, arr_bytes, cudaMemAdviseSetReadMostly, cudaCpuDeviceId);\n",
        "\n",
        "\n",
        "    //prefetch to create CPU page memory\n",
        "    cudaMemPrefetchAsync(vec, arr_bytes, cudaCpuDeviceId, NULL);\n",
        "\n",
        "    //prefetch to create GPU page memory\n",
        "    cudaMemPrefetchAsync(histbins, hist_bytes, device, NULL);\n",
        "\n",
        "    //initialize arrays with index value\n",
        "    for (int i = 0; i < size; i++) {\n",
        "        vec[i] = (int32_t)i;\n",
        "    }\n",
        "\n",
        "    //prefetching CPU-GPU\n",
        "    cudaMemPrefetchAsync(vec, arr_bytes, device, NULL);\n",
        "\tcudaMemPrefetchAsync(histbins, hist_bytes, device, NULL);\n",
        "\n",
        "    //cuda kernel\n",
        "    size_t threads = 256;\n",
        "    size_t blocks = (size + threads - 1) / threads;\n",
        "\n",
        "    for (int i = 0; i < repeat; i++) {\n",
        "        histcount <<<blocks, threads>>> (size, histbins, vec);\n",
        "\n",
        "        if (i < repeat - 1) { //clear the histogram\n",
        "            cudaMemset(histbins, 0, hist_bytes);\n",
        "        }\n",
        "    }\n",
        "\n",
        "    cudaDeviceSynchronize(); //wait GPU to finish\n",
        "\n",
        "    //prefetch from gpu-cpu\n",
        "    cudaMemPrefetchAsync(histbins, hist_bytes, cudaCpuDeviceId, NULL);\n",
        "    cudaMemPrefetchAsync(vec, arr_bytes, cudaCpuDeviceId, NULL);\n",
        "\n",
        "    printf(\"Historgram Bins: \\n\");\n",
        "    for (int i = 0; i < 10; i++) {\n",
        "        printf(\"Historgram Bin #%d: %d\\n\", i + 1, histbins[i]);\n",
        "    }\n",
        "\n",
        "    printf(\"\\n\\nCUDA kernel:\\n\");\n",
        "    printf(\"Number of blocks: %lu\\n\", blocks);\n",
        "    printf(\"Number of threads: %lu\\n\", threads);\n",
        "    printf(\"Number of runs: %lu\\n\", repeat);\n",
        "    printf(\"Array size: %lu\\n\\n\", size);\n",
        "\n",
        "    int indcheck = 0;\n",
        "    int32_t histcheck[10] = { 0 };\n",
        "    for (int i = 0; i < size; i++) {\n",
        "        indcheck = vec[i] % 10;\n",
        "        histcheck[indcheck]++;\n",
        "    }\n",
        "\n",
        "    //error checker\n",
        "    size_t error = 0;\n",
        "    for (int i = 0; i < 10; i++) {\n",
        "        if (histbins[i] != histcheck[i]) {\n",
        "            error++;\n",
        "        }\n",
        "    }\n",
        "\n",
        "    printf(\"Number of errors in CUDA program: %zu\\n\\n\", error);\n",
        "\n",
        "    //free memory\n",
        "    cudaFree(vec);\n",
        "    cudaFree(histbins);\n",
        "\n",
        "    return 0;\n",
        "}"
      ],
      "metadata": {
        "id": "tUUg6r5QLkAM"
      },
      "execution_count": null,
      "outputs": []
    },
    {
      "cell_type": "code",
      "source": [
        "%%shell\n",
        "nvcc -o CUDA_histcount CUDA_histcount.cu\n",
        "nvprof ./CUDA_histcount.cu"
      ],
      "metadata": {
        "id": "TR49GxCeL6qk"
      },
      "execution_count": null,
      "outputs": []
    }
  ]
}