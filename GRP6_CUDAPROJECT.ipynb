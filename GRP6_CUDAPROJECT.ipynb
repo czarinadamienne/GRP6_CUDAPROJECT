{
  "nbformat": 4,
  "nbformat_minor": 0,
  "metadata": {
    "colab": {
      "provenance": [],
      "gpuType": "T4",
      "include_colab_link": true
    },
    "kernelspec": {
      "name": "python3",
      "display_name": "Python 3"
    },
    "language_info": {
      "name": "python"
    },
    "accelerator": "GPU"
  },
  "cells": [
    {
      "cell_type": "markdown",
      "metadata": {
        "id": "view-in-github",
        "colab_type": "text"
      },
      "source": [
        "<a href=\"https://colab.research.google.com/github/czarinadamienne/GRP6_CUDAPROJECT/blob/main/GRP6_CUDAPROJECT.ipynb\" target=\"_parent\"><img src=\"https://colab.research.google.com/assets/colab-badge.svg\" alt=\"Open In Colab\"/></a>"
      ]
    },
    {
      "cell_type": "markdown",
      "source": [
        "# Implementing **Histogram Counting** and using **Shared memory concept** in CUDA"
      ],
      "metadata": {
        "id": "cszdy2AfK-H0"
      }
    },
    {
      "cell_type": "markdown",
      "source": [
        "### Check CUDA"
      ],
      "metadata": {
        "id": "H9eomnqQLnMt"
      }
    },
    {
      "cell_type": "code",
      "source": [
        "gpu_info = !nvidia-smi\n",
        "gpu_info = '\\n'.join(gpu_info)\n",
        "if gpu_info.find('failed') >= 0:\n",
        "  print('Not connected to a GPU')\n",
        "else:\n",
        "  print(gpu_info)"
      ],
      "metadata": {
        "id": "-zNCL_NyLrDS",
        "colab": {
          "base_uri": "https://localhost:8080/"
        },
        "outputId": "c4ba6560-751c-4f17-e88e-1c984d3e0df3"
      },
      "execution_count": null,
      "outputs": [
        {
          "output_type": "stream",
          "name": "stdout",
          "text": [
            "Tue Feb 18 05:33:26 2025       \n",
            "+-----------------------------------------------------------------------------------------+\n",
            "| NVIDIA-SMI 550.54.15              Driver Version: 550.54.15      CUDA Version: 12.4     |\n",
            "|-----------------------------------------+------------------------+----------------------+\n",
            "| GPU  Name                 Persistence-M | Bus-Id          Disp.A | Volatile Uncorr. ECC |\n",
            "| Fan  Temp   Perf          Pwr:Usage/Cap |           Memory-Usage | GPU-Util  Compute M. |\n",
            "|                                         |                        |               MIG M. |\n",
            "|=========================================+========================+======================|\n",
            "|   0  Tesla T4                       Off |   00000000:00:04.0 Off |                    0 |\n",
            "| N/A   33C    P8              9W /   70W |       0MiB /  15360MiB |      0%      Default |\n",
            "|                                         |                        |                  N/A |\n",
            "+-----------------------------------------+------------------------+----------------------+\n",
            "                                                                                         \n",
            "+-----------------------------------------------------------------------------------------+\n",
            "| Processes:                                                                              |\n",
            "|  GPU   GI   CI        PID   Type   Process name                              GPU Memory |\n",
            "|        ID   ID                                                               Usage      |\n",
            "|=========================================================================================|\n",
            "|  No running processes found                                                             |\n",
            "+-----------------------------------------------------------------------------------------+\n"
          ]
        }
      ]
    },
    {
      "cell_type": "markdown",
      "source": [
        "## (1) C Implementation"
      ],
      "metadata": {
        "id": "XM-bahRELcfh"
      }
    },
    {
      "cell_type": "code",
      "execution_count": null,
      "metadata": {
        "id": "5JNtuiJhBsYb",
        "colab": {
          "base_uri": "https://localhost:8080/"
        },
        "outputId": "f9d9e655-4166-4a57-e1bf-960c86b464db"
      },
      "outputs": [
        {
          "output_type": "stream",
          "name": "stdout",
          "text": [
            "Writing C_histcount.c\n"
          ]
        }
      ],
      "source": [
        "%%writefile C_histcount.c\n",
        "\n",
        "#include <stdio.h>\n",
        "#include <stdlib.h>\n",
        "#include <time.h>\n",
        "#include <stdint.h>\n",
        "\n",
        "//histogram counting\n",
        "void histcount(size_t n, int32_t* histbins, int32_t* vec) {\n",
        "    int index = 0;\n",
        "    for (int i = 0; i < n; i++) {\n",
        "        index = vec[i] % 10;\n",
        "        histbins[index]++;\n",
        "    }\n",
        "}\n",
        "\n",
        "int main(int argc, char** argv) {\n",
        "    const size_t size = 1 << 28; //change to 1 << 28\n",
        "    const size_t arr_bytes = size * sizeof(int32_t);\n",
        "    const size_t hist_bytes = 10 * sizeof(int32_t);\n",
        "\n",
        "    const size_t repeat = 30;\n",
        "\n",
        "    //dynamically allocate\n",
        "    int32_t* vec, *histbins;\n",
        "    vec = (int32_t*)malloc(arr_bytes);\n",
        "\thistbins = (int32_t*)malloc(hist_bytes);\n",
        "\n",
        "\tfor (int i = 0; i < 10; i++) {\n",
        "\t\thistbins[i] = 0;\n",
        "\t}\n",
        "\n",
        "    //time test\n",
        "    clock_t start, end;\n",
        "\n",
        "    //initialize arrays with index value\n",
        "    for (int i = 0; i < size; i++) {\n",
        "        vec[i] = (int32_t) i;\n",
        "    }\n",
        "\n",
        "    //avoid cache miss\n",
        "    histcount(size, histbins, vec);\n",
        "    for (int i = 0; i < 10; i++) { //clear the histogram\n",
        "        histbins[i] = 0;\n",
        "    }\n",
        "\n",
        "    //timer\n",
        "    double elapse, time_taken;\n",
        "    elapse = 0.0f;\n",
        "\n",
        "    for (int i = 0; i < repeat; i++) {\n",
        "        start = clock();\n",
        "        histcount(size, histbins, vec);\n",
        "        end = clock();\n",
        "        time_taken = ((double)(end - start)) * 1E3 / CLOCKS_PER_SEC;\n",
        "        elapse += time_taken;\n",
        "\n",
        "        if (i < repeat - 1) { //clear the histogram\n",
        "            for (int j = 0; j < 10; j++) {\n",
        "                histbins[j] = 0;\n",
        "            }\n",
        "        }\n",
        "    }\n",
        "\n",
        "    printf(\"Historgram Bins: \\n\");\n",
        "    for (int i = 0; i < 10; i++) {\n",
        "        printf(\"Historgram Bin #%d: %d\\n\", i + 1, histbins[i]);\n",
        "    }\n",
        "\n",
        "    printf(\"\\n\\nC function:\\n\");\n",
        "    printf(\"Average execution time: %f milliseconds\\n\", elapse / repeat);\n",
        "    printf(\"Number of runs: %zu\\n\", repeat);\n",
        "    printf(\"Array size: %zu\\n\", size);\n",
        "\n",
        "    int32_t histcheck[10] = { 0 };\n",
        "    for (int i = 0; i < size; i++) {\n",
        "        histcheck[vec[i] % 10]++;\n",
        "    }\n",
        "\n",
        "    /*printf(\"\\n\\nVector: \");\n",
        "    for (int i = 0; i < size; i++){\n",
        "      printf(\"%d\", vec[i]);\n",
        "    }*/\n",
        "\n",
        "    //error checker\n",
        "    size_t error = 0;\n",
        "    for (int i = 0; i < 10; i++) {\n",
        "        if (histbins[i] != histcheck[i]) {\n",
        "            error++;\n",
        "        }\n",
        "    }\n",
        "\n",
        "    printf(\"\\nNumber of wrong bins in C program: %zu\\n\\n\", error);\n",
        "\n",
        "    //free memory\n",
        "    free(vec);\n",
        "\t  free(histbins);\n",
        "\n",
        "    return 0;\n",
        "}"
      ]
    },
    {
      "cell_type": "code",
      "source": [
        "%%shell\n",
        "gcc C_histcount.c -o C_histcount\n",
        "./C_histcount"
      ],
      "metadata": {
        "id": "JomQRFSALzS_",
        "colab": {
          "base_uri": "https://localhost:8080/"
        },
        "outputId": "a606539b-5e84-490e-f4e3-9fec941e7acc"
      },
      "execution_count": null,
      "outputs": [
        {
          "output_type": "stream",
          "name": "stdout",
          "text": [
            "Historgram Bins: \n",
            "Historgram Bin #1: 26843546\n",
            "Historgram Bin #2: 26843546\n",
            "Historgram Bin #3: 26843546\n",
            "Historgram Bin #4: 26843546\n",
            "Historgram Bin #5: 26843546\n",
            "Historgram Bin #6: 26843546\n",
            "Historgram Bin #7: 26843545\n",
            "Historgram Bin #8: 26843545\n",
            "Historgram Bin #9: 26843545\n",
            "Historgram Bin #10: 26843545\n",
            "\n",
            "\n",
            "C function:\n",
            "Average execution time: 1251.328400 milliseconds\n",
            "Number of runs: 30\n",
            "Array size: 268435456\n",
            "\n",
            "Number of errors in C program: 0\n",
            "\n"
          ]
        },
        {
          "output_type": "execute_result",
          "data": {
            "text/plain": []
          },
          "metadata": {},
          "execution_count": 3
        }
      ]
    },
    {
      "cell_type": "markdown",
      "source": [
        "## (2) CUDA Implementation with Shared Memory Concept"
      ],
      "metadata": {
        "id": "WgphmxN6nlco"
      }
    },
    {
      "cell_type": "code",
      "source": [
        "%%writefile CUDA_histcount2.cu\n",
        "#include <stdio.h>\n",
        "#include <stdlib.h>\n",
        "\n",
        "//CUDA histcount kernel\n",
        "__global__ void histcount(size_t n, int32_t* histbins, int32_t* vec) {\n",
        "    int ind = 0;\n",
        "    int index = blockIdx.x * blockDim.x + threadIdx.x;\n",
        "    int stride = blockDim.x * gridDim.x;\n",
        "    __shared__ int32_t sharedHist[10];\n",
        "\n",
        "    if (threadIdx.x == 0) {\n",
        "        for (int i = 0; i < 10; i++) {\n",
        "            sharedHist[i] = 0;\n",
        "        }\n",
        "    }\n",
        "\n",
        "    __syncthreads();\n",
        "\n",
        "    for (int i = index; i < n; i += stride) {\n",
        "        ind = vec[i] % 10;\n",
        "        atomicAdd(&sharedHist[ind], 1);\n",
        "    }\n",
        "\n",
        "    __syncthreads();\n",
        "\n",
        "    if (threadIdx.x == 0) {\n",
        "      for (int i = 0; i < 10; i++) {\n",
        "        atomicAdd(&histbins[i], sharedHist[i]);\n",
        "      }\n",
        "    }\n",
        "}\n",
        "\n",
        "int main() {\n",
        "    const size_t size = 1 << 28; //change to 1 << 28\n",
        "    const size_t arr_bytes = size * sizeof(int32_t);\n",
        "    const size_t hist_bytes = 10 * sizeof(int32_t);\n",
        "\n",
        "    const size_t repeat = 30;\n",
        "\n",
        "    //cuda allocate cpu and gpu memory\n",
        "    int32_t *vec, *histbins;\n",
        "    cudaMallocManaged(&vec, arr_bytes);\n",
        "    cudaMallocManaged(&histbins, hist_bytes);\n",
        "\n",
        "\t//initialize histogram bins to 0\n",
        "    cudaMemset(histbins, 0, hist_bytes);\n",
        "\n",
        "    //get gpu in\n",
        "    int device = -1;\n",
        "    cudaGetDevice(&device);\n",
        "\n",
        "    //mem advise\n",
        "    cudaMemAdvise(vec, arr_bytes, cudaMemAdviseSetPreferredLocation, cudaCpuDeviceId);\n",
        "    cudaMemAdvise(vec, arr_bytes, cudaMemAdviseSetReadMostly, cudaCpuDeviceId);\n",
        "\n",
        "\n",
        "    //prefetch to create CPU page memory\n",
        "    cudaMemPrefetchAsync(vec, arr_bytes, cudaCpuDeviceId, NULL);\n",
        "\n",
        "    //prefetch to create GPU page memory\n",
        "    cudaMemPrefetchAsync(histbins, hist_bytes, device, NULL);\n",
        "\n",
        "    //initialize arrays with index value\n",
        "    for (int i = 0; i < size; i++) {\n",
        "        vec[i] = (int32_t)i;\n",
        "    }\n",
        "\n",
        "    //prefetching CPU-GPU\n",
        "    cudaMemPrefetchAsync(vec, arr_bytes, device, NULL);\n",
        "\t  cudaMemPrefetchAsync(histbins, hist_bytes, device, NULL);\n",
        "\n",
        "    //cuda kernel\n",
        "    size_t threads = 1024;\n",
        "    size_t blocks = (size + threads - 1) / threads;\n",
        "\n",
        "    for (int i = 0; i < repeat; i++) {\n",
        "        histcount <<<blocks, threads>>> (size, histbins, vec);\n",
        "\n",
        "        if (i < repeat - 1) { //clear the histogram\n",
        "            cudaMemset(histbins, 0, hist_bytes);\n",
        "        }\n",
        "    }\n",
        "\n",
        "    cudaDeviceSynchronize(); //wait GPU to finish\n",
        "\n",
        "    //prefetch from gpu-cpu\n",
        "    cudaMemPrefetchAsync(histbins, hist_bytes, cudaCpuDeviceId, NULL);\n",
        "    cudaMemPrefetchAsync(vec, arr_bytes, cudaCpuDeviceId, NULL);\n",
        "\n",
        "    printf(\"Historgram Bins: \\n\");\n",
        "    for (int i = 0; i < 10; i++) {\n",
        "        printf(\"Historgram Bin #%d: %d\\n\", i + 1, histbins[i]);\n",
        "    }\n",
        "\n",
        "    printf(\"\\n\\nCUDA kernel:\\n\");\n",
        "    printf(\"Number of blocks: %lu\\n\", blocks);\n",
        "    printf(\"Number of threads: %lu\\n\", threads);\n",
        "    printf(\"Number of runs: %lu\\n\", repeat);\n",
        "    printf(\"Array size: %lu\\n\\n\", size);\n",
        "\n",
        "    int indcheck = 0;\n",
        "    int32_t histcheck[10] = { 0 };\n",
        "    for (int i = 0; i < size; i++) {\n",
        "        indcheck = vec[i] % 10;\n",
        "        histcheck[indcheck]++;\n",
        "    }\n",
        "\n",
        "    //error checker\n",
        "    size_t error = 0;\n",
        "    for (int i = 0; i < 10; i++) {\n",
        "        if (histbins[i] != histcheck[i]) {\n",
        "            error++;\n",
        "        }\n",
        "    }\n",
        "\n",
        "    printf(\"Number of errors in CUDA program: %zu\\n\\n\", error);\n",
        "\n",
        "    //free memory\n",
        "    cudaFree(vec);\n",
        "    cudaFree(histbins);\n",
        "\n",
        "    return 0;\n",
        "}"
      ],
      "metadata": {
        "colab": {
          "base_uri": "https://localhost:8080/"
        },
        "outputId": "f1be48e5-d326-483e-fbb2-71098cf05172",
        "id": "i9rMMOqnnlcp"
      },
      "execution_count": null,
      "outputs": [
        {
          "output_type": "stream",
          "name": "stdout",
          "text": [
            "Overwriting CUDA_histcount2.cu\n"
          ]
        }
      ]
    },
    {
      "cell_type": "code",
      "source": [
        "%%shell\n",
        "nvcc -o CUDA_histcount2 CUDA_histcount2.cu -arch=sm_75\n",
        "nvprof ./CUDA_histcount2"
      ],
      "metadata": {
        "colab": {
          "base_uri": "https://localhost:8080/"
        },
        "outputId": "67aa2805-89cf-4a75-9ef6-dc3574ca710d",
        "id": "z_d3ufpQnlcq"
      },
      "execution_count": null,
      "outputs": [
        {
          "output_type": "stream",
          "name": "stdout",
          "text": [
            "==9252== NVPROF is profiling process 9252, command: ./CUDA_histcount2\n",
            "Historgram Bins: \n",
            "Historgram Bin #1: 26843546\n",
            "Historgram Bin #2: 26843546\n",
            "Historgram Bin #3: 26843546\n",
            "Historgram Bin #4: 26843546\n",
            "Historgram Bin #5: 26843546\n",
            "Historgram Bin #6: 26843546\n",
            "Historgram Bin #7: 26843545\n",
            "Historgram Bin #8: 26843545\n",
            "Historgram Bin #9: 26843545\n",
            "Historgram Bin #10: 26843545\n",
            "\n",
            "\n",
            "CUDA kernel:\n",
            "Number of blocks: 262144\n",
            "Number of threads: 1024\n",
            "Number of runs: 30\n",
            "Array size: 268435456\n",
            "\n",
            "Number of errors in CUDA program: 0\n",
            "\n",
            "==9252== Profiling application: ./CUDA_histcount2\n",
            "==9252== Profiling result:\n",
            "            Type  Time(%)      Time     Calls       Avg       Min       Max  Name\n",
            " GPU activities:   99.93%  325.78ms        30  10.859ms  7.0247ms  16.540ms  histcount(unsigned long, int*, int*)\n",
            "                    0.07%  219.45us        30  7.3150us  1.6000us  152.77us  [CUDA memset]\n",
            "      API calls:   50.68%  485.70ms         6  80.950ms  29.093us  296.88ms  cudaMemPrefetchAsync\n",
            "                   33.39%  319.95ms        30  10.665ms  190.01us  16.566ms  cudaMemset\n",
            "                   10.59%  101.45ms         2  50.727ms  64.377us  101.39ms  cudaMallocManaged\n",
            "                    4.51%  43.207ms         2  21.603ms  2.9541ms  40.252ms  cudaFree\n",
            "                    0.73%  7.0308ms         1  7.0308ms  7.0308ms  7.0308ms  cudaDeviceSynchronize\n",
            "                    0.08%  801.13us        30  26.704us  15.384us  225.89us  cudaLaunchKernel\n",
            "                    0.01%  143.07us       114  1.2550us     104ns  60.450us  cuDeviceGetAttribute\n",
            "                    0.00%  25.434us         2  12.717us  3.7650us  21.669us  cudaMemAdvise\n",
            "                    0.00%  12.228us         1  12.228us  12.228us  12.228us  cuDeviceGetName\n",
            "                    0.00%  7.8040us         1  7.8040us  7.8040us  7.8040us  cuDeviceGetPCIBusId\n",
            "                    0.00%  2.2680us         1  2.2680us  2.2680us  2.2680us  cudaGetDevice\n",
            "                    0.00%  2.1130us         3     704ns     189ns  1.6660us  cuDeviceGetCount\n",
            "                    0.00%     766ns         1     766ns     766ns     766ns  cuDeviceTotalMem\n",
            "                    0.00%     701ns         2     350ns     157ns     544ns  cuDeviceGet\n",
            "                    0.00%     590ns         1     590ns     590ns     590ns  cuModuleGetLoadingMode\n",
            "                    0.00%     322ns         1     322ns     322ns     322ns  cuDeviceGetUuid\n",
            "\n",
            "==9252== Unified Memory profiling result:\n",
            "Device \"Tesla T4 (0)\"\n",
            "   Count  Avg Size  Min Size  Max Size  Total Size  Total Time  Name\n",
            "     512  2.0000MB  2.0000MB  2.0000MB  1.000000GB  88.87248ms  Host To Device\n",
            "       1  4.0000KB  4.0000KB  4.0000KB  4.000000KB  1.440000us  Device To Host\n",
            "       1         -         -         -           -  147.8690us  Gpu page fault groups\n"
          ]
        },
        {
          "output_type": "execute_result",
          "data": {
            "text/plain": []
          },
          "metadata": {},
          "execution_count": 34
        }
      ]
    }
  ]
}